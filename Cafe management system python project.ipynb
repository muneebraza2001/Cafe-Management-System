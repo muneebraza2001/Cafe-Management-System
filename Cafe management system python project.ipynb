{
 "cells": [
  {
   "cell_type": "markdown",
   "metadata": {},
   "source": [
    "Mini Project in Python\n",
    "(Cafe Management System)"
   ]
  },
  {
   "cell_type": "markdown",
   "metadata": {},
   "source": [
    "First define the manu of rastutant"
   ]
  },
  {
   "cell_type": "code",
   "execution_count": 14,
   "metadata": {},
   "outputs": [
    {
     "name": "stdout",
     "output_type": "stream",
     "text": [
      "{'Croissant': 3, 'Coffee': 5, 'Pizza': 10, 'Pasta': 20, 'Burger': 25, 'Salad': 15}\n"
     ]
    }
   ],
   "source": [
    "menu = {\n",
    "    'Croissant':3,\n",
    "    'Coffee':5,\n",
    "    'Pizza':10,\n",
    "    'Pasta':20,\n",
    "    'Burger':25,\n",
    "    'Salad':15,\n",
    "\n",
    "}\n",
    "print(menu)"
   ]
  },
  {
   "cell_type": "markdown",
   "metadata": {},
   "source": [
    "Now greet ,display welcome to our cafe"
   ]
  },
  {
   "cell_type": "code",
   "execution_count": 15,
   "metadata": {},
   "outputs": [
    {
     "name": "stdout",
     "output_type": "stream",
     "text": [
      "Welcome to your RAZA CAFE\n",
      " Croissant: 3 Euros \n",
      " Coffee: 5 Euros \n",
      " Pizza: 10 Euros \n",
      " Pasta: 20 Euros \n",
      " Burger: 25 Euros \n",
      " salad : 15 Euros  \n"
     ]
    }
   ],
   "source": [
    "print(\"Welcome to your RAZA CAFE\")\n",
    "print(\" Croissant: 3 Euros \\n Coffee: 5 Euros \\n Pizza: 10 Euros \\n Pasta: 20 Euros \\n Burger: 25 Euros \\n salad : 15 Euros  \")"
   ]
  },
  {
   "cell_type": "markdown",
   "metadata": {},
   "source": [
    "Now Take Orders input"
   ]
  },
  {
   "cell_type": "code",
   "execution_count": 16,
   "metadata": {},
   "outputs": [
    {
     "name": "stdout",
     "output_type": "stream",
     "text": [
      "Your item_1 has been added to your order\n",
      "Item Burger has been added to the order\n",
      "The total amount of items to pay is 30\n"
     ]
    }
   ],
   "source": [
    "order_total = 0\n",
    "\n",
    "item_1= input (\"Enter the name of item you want to order = \")\n",
    "\n",
    "if item_1 in menu:\n",
    "    order_total += menu[item_1]\n",
    "    print(f\"Your item_1 has been added to your order\")\n",
    "\n",
    "else:\n",
    "    print(f\"Ordered item {item_1} not available \")\n",
    "\n",
    "another_order = input(\" Do you want to add another item? (yes/no)\")\n",
    "if another_order ==\"yes\":\n",
    "    item_2 = input(\"Enter the name of second item = \")\n",
    "    if item_2 in menu:\n",
    "        order_total += menu[item_2]\n",
    "        print(f\"Item {item_2} has been added to the order\")\n",
    "\n",
    "    else:\n",
    "        print(f\"ordered item {item_2} is not available\")\n",
    "\n",
    "print(f\"The total amount of items to pay is {order_total}\")\n",
    "\n",
    "#burger 25 + coffee 5 = 30"
   ]
  }
 ],
 "metadata": {
  "kernelspec": {
   "display_name": "Python 3",
   "language": "python",
   "name": "python3"
  },
  "language_info": {
   "codemirror_mode": {
    "name": "ipython",
    "version": 3
   },
   "file_extension": ".py",
   "mimetype": "text/x-python",
   "name": "python",
   "nbconvert_exporter": "python",
   "pygments_lexer": "ipython3",
   "version": "3.12.2"
  }
 },
 "nbformat": 4,
 "nbformat_minor": 2
}
